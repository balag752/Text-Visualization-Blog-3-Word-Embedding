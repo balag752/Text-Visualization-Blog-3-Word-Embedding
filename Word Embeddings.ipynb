{
 "cells": [
  {
   "cell_type": "markdown",
   "metadata": {},
   "source": [
    "#                                 <font color=Black>TRIP ADVISER Review Analysis </font>"
   ]
  },
  {
   "cell_type": "markdown",
   "metadata": {},
   "source": [
    "## Data Source"
   ]
  },
  {
   "cell_type": "markdown",
   "metadata": {},
   "source": [
    " As part of this analysis, we analyze the Hotel reviews from **Tripadviser**. we could find the [Trip Adviser dataset here](https://github.com/kavgan/OpinRank). This analysis is focused to **Word Embeddings** technique."
   ]
  },
  {
   "cell_type": "code",
   "execution_count": 1,
   "metadata": {},
   "outputs": [],
   "source": [
    "# Required Packages\n",
    "\n",
    "from collections import Counter, defaultdict\n",
    "from scipy.sparse import lil_matrix, spmatrix, csr_matrix, save_npz, load_npz\n",
    "import matplotlib.pyplot as plt\n",
    "import numpy as np\n",
    "import string\n",
    "import os\n",
    "import re\n",
    "import pandas as pd\n",
    "import sys\n",
    "from sklearn.feature_extraction.text import CountVectorizer,TfidfVectorizer\n",
    "import re\n",
    "\n",
    "\n",
    "import datetime\n",
    "from gensim.models import Word2Vec"
   ]
  },
  {
   "cell_type": "code",
   "execution_count": 3,
   "metadata": {},
   "outputs": [],
   "source": [
    "#Selecting cities and data path\n",
    "DataPath=\"E:\\\\Techi\\\\Courses\\\\Masters in Data Science\\\\Courses\\\\Text Visualization\\\\Data sets\\\\Trip Advisor\\\\hotels\\\\data\\\\\"\n",
    "Cities=['new-delhi','beijing', 'chicago', 'dubai', 'las-vegas', 'london', 'montreal',  'new-york-city', 'san-francisco', 'shanghai']\n",
    "Stopwords=[\"nan\",\"quot\",\"amp\",\"a\", \"about\", \"above\", \"after\", \"again\", \"against\", \"ain\", \"all\", \"am\", \"an\", \"and\", \"any\", \"are\", \"aren\", \"aren't\", \"as\", \"at\", \"be\", \"because\", \"been\", \"before\", \"being\", \"below\", \"between\", \"both\", \"but\", \"by\", \"can\", \"couldn\", \"couldn't\", \"d\", \"did\", \"didn\", \"didn't\", \"do\", \"does\", \"doesn\", \"doesn't\", \"doing\", \"don\", \"don't\", \"down\", \"during\", \"each\", \"few\", \"for\", \"from\", \"further\", \"had\", \"hadn\", \"hadn't\", \"has\", \"hasn\", \"hasn't\", \"have\", \"haven\", \"haven't\", \"having\", \"he\", \"her\", \"here\", \"hers\", \"herself\", \"him\", \"himself\", \"his\", \"how\", \"i\", \"if\", \"in\", \"into\", \"is\", \"isn\", \"isn't\", \"it\", \"it's\", \"its\", \"itself\", \"just\", \"ll\", \"m\", \"ma\", \"me\", \"mightn\", \"mightn't\", \"more\", \"most\", \"mustn\", \"mustn't\", \"my\", \"myself\", \"needn\", \"needn't\", \"no\", \"nor\", \"not\", \"now\", \"o\", \"of\", \"off\", \"on\", \"once\", \"only\", \"or\", \"other\", \"our\", \"ours\", \"ourselves\", \"out\", \"over\", \"own\", \"re\", \"s\", \"same\", \"shan\", \"shan't\", \"she\", \"she's\", \"should\", \"should've\", \"shouldn\", \"shouldn't\", \"so\", \"some\", \"such\", \"t\", \"than\", \"that\", \"that'll\", \"the\", \"their\", \"theirs\", \"them\", \"themselves\", \"then\", \"there\", \"these\", \"they\", \"this\", \"those\", \"through\", \"to\", \"too\", \"under\", \"until\", \"up\", \"ve\", \"very\", \"was\", \"wasn\", \"wasn't\", \"we\", \"were\", \"weren\", \"weren't\", \"what\", \"when\", \"where\", \"which\", \"while\", \"who\", \"whom\", \"why\", \"will\", \"with\", \"won\", \"won't\", \"wouldn\", \"wouldn't\", \"y\", \"you\", \"you'd\", \"you'll\", \"you're\", \"you've\", \"your\", \"yours\", \"yourself\", \"yourselves\", \"could\", \"he'd\", \"he'll\", \"he's\", \"here's\", \"how's\", \"i'd\", \"i'll\", \"i'm\", \"i've\", \"let's\", \"ought\", \"she'd\", \"she'll\", \"that's\", \"there's\", \"they'd\", \"they'll\", \"they're\", \"they've\", \"we'd\", \"we'll\", \"we're\", \"we've\", \"what's\", \"when's\", \"where's\", \"who's\", \"why's\", \"would\", \"able\", \"abst\", \"accordance\", \"according\", \"accordingly\", \"across\", \"act\", \"actually\", \"added\", \"adj\", \"affected\", \"affecting\", \"affects\", \"afterwards\", \"ah\", \"almost\", \"alone\", \"along\", \"already\", \"also\", \"although\", \"always\", \"among\", \"amongst\", \"announce\", \"another\", \"anybody\", \"anyhow\", \"anymore\", \"anyone\", \"anything\", \"anyway\", \"anyways\", \"anywhere\", \"apparently\", \"approximately\", \"arent\", \"arise\", \"around\", \"aside\", \"ask\", \"asking\", \"auth\", \"available\", \"away\", \"awfully\", \"b\", \"back\", \"became\", \"become\", \"becomes\", \"becoming\", \"beforehand\", \"begin\", \"beginning\", \"beginnings\", \"begins\", \"behind\", \"believe\", \"beside\", \"besides\", \"beyond\", \"biol\", \"brief\", \"briefly\", \"c\", \"ca\", \"came\", \"cannot\", \"can't\", \"cause\", \"causes\", \"certain\", \"certainly\", \"co\", \"com\", \"come\", \"comes\", \"contain\", \"containing\", \"contains\", \"couldnt\", \"date\", \"different\", \"done\", \"downwards\", \"due\", \"e\", \"ed\", \"edu\", \"effect\", \"eg\", \"eight\", \"eighty\", \"either\", \"else\", \"elsewhere\", \"end\", \"ending\", \"enough\", \"especially\", \"et\", \"etc\", \"even\", \"ever\", \"every\", \"everybody\", \"everyone\", \"everything\", \"everywhere\", \"ex\", \"except\", \"f\", \"far\", \"ff\", \"fifth\", \"first\", \"five\", \"fix\", \"followed\", \"following\", \"follows\", \"former\", \"formerly\", \"forth\", \"found\", \"four\", \"furthermore\", \"g\", \"gave\", \"get\", \"gets\", \"getting\", \"give\", \"given\", \"gives\", \"giving\", \"go\", \"goes\", \"gone\", \"got\", \"gotten\", \"h\", \"happens\", \"hardly\", \"hed\", \"hence\", \"hereafter\", \"hereby\", \"herein\", \"heres\", \"hereupon\", \"hes\", \"hi\", \"hid\", \"hither\", \"home\", \"howbeit\", \"however\", \"hundred\", \"id\", \"ie\", \"im\", \"immediate\", \"immediately\", \"importance\", \"important\", \"inc\", \"indeed\", \"index\", \"information\", \"instead\", \"invention\", \"inward\", \"itd\", \"it'll\", \"j\", \"k\", \"keep\", \"keeps\", \"kept\", \"kg\", \"km\", \"know\", \"known\", \"knows\", \"l\", \"largely\", \"last\", \"lately\", \"later\", \"latter\", \"latterly\", \"least\", \"less\", \"lest\", \"let\", \"lets\", \"like\", \"liked\", \"likely\", \"line\", \"little\", \"'ll\", \"look\", \"looking\", \"looks\", \"ltd\", \"made\", \"mainly\", \"make\", \"makes\", \"many\", \"may\", \"maybe\", \"mean\", \"means\", \"meantime\", \"meanwhile\", \"merely\", \"mg\", \"might\", \"million\", \"miss\", \"ml\", \"moreover\", \"mostly\", \"mr\", \"mrs\", \"much\", \"mug\", \"must\", \"n\", \"na\", \"name\", \"namely\", \"nay\", \"nd\", \"near\", \"nearly\", \"necessarily\", \"necessary\", \"need\", \"needs\", \"neither\", \"never\", \"nevertheless\", \"new\", \"next\", \"nine\", \"ninety\", \"nobody\", \"non\", \"none\", \"nonetheless\", \"noone\", \"normally\", \"nos\", \"noted\", \"nothing\", \"nowhere\", \"obtain\", \"obtained\", \"obviously\", \"often\", \"oh\", \"ok\", \"okay\", \"old\", \"omitted\", \"one\", \"ones\", \"onto\", \"ord\", \"others\", \"otherwise\", \"outside\", \"overall\", \"owing\", \"p\", \"page\", \"pages\", \"part\", \"particular\", \"particularly\", \"past\", \"per\", \"perhaps\", \"placed\", \"please\", \"plus\", \"poorly\", \"possible\", \"possibly\", \"potentially\", \"pp\", \"predominantly\", \"present\", \"previously\", \"primarily\", \"probably\", \"promptly\", \"proud\", \"provides\", \"put\", \"q\", \"que\", \"quickly\", \"quite\", \"qv\", \"r\", \"ran\", \"rather\", \"rd\", \"readily\", \"really\", \"recent\", \"recently\", \"ref\", \"refs\", \"regarding\", \"regardless\", \"regards\", \"related\", \"relatively\", \"research\", \"respectively\", \"resulted\", \"resulting\", \"results\", \"right\", \"run\", \"said\", \"saw\", \"say\", \"saying\", \"says\", \"sec\", \"section\", \"see\", \"seeing\", \"seem\", \"seemed\", \"seeming\", \"seems\", \"seen\", \"self\", \"selves\", \"sent\", \"seven\", \"several\", \"shall\", \"shed\", \"shes\", \"show\", \"showed\", \"shown\", \"showns\", \"shows\", \"significant\", \"significantly\", \"similar\", \"similarly\", \"since\", \"six\", \"slightly\", \"somebody\", \"somehow\", \"someone\", \"somethan\", \"something\", \"sometime\", \"sometimes\", \"somewhat\", \"somewhere\", \"soon\", \"sorry\", \"specifically\", \"specified\", \"specify\", \"specifying\", \"still\", \"stop\", \"strongly\", \"sub\", \"substantially\", \"successfully\", \"sufficiently\", \"suggest\", \"sup\", \"sure\", \"take\", \"taken\", \"taking\", \"tell\", \"tends\", \"th\", \"thank\", \"thanks\", \"thanx\", \"thats\", \"that've\", \"thence\", \"thereafter\", \"thereby\", \"thered\", \"therefore\", \"therein\", \"there'll\", \"thereof\", \"therere\", \"theres\", \"thereto\", \"thereupon\", \"there've\", \"theyd\", \"theyre\", \"think\", \"thou\", \"though\", \"thoughh\", \"thousand\", \"throug\", \"throughout\", \"thru\", \"thus\", \"til\", \"tip\", \"together\", \"took\", \"toward\", \"towards\", \"tried\", \"tries\", \"truly\", \"try\", \"trying\", \"ts\", \"twice\", \"two\", \"u\", \"un\", \"unfortunately\", \"unless\", \"unlike\", \"unlikely\", \"unto\", \"upon\", \"ups\", \"us\", \"use\", \"used\", \"useful\", \"usefully\", \"usefulness\", \"uses\", \"using\", \"usually\", \"v\", \"value\", \"various\", \"'ve\", \"via\", \"viz\", \"vol\", \"vols\", \"vs\", \"w\", \"want\", \"wants\", \"wasnt\", \"way\", \"wed\", \"welcome\", \"went\", \"werent\", \"whatever\", \"what'll\", \"whats\", \"whence\", \"whenever\", \"whereafter\", \"whereas\", \"whereby\", \"wherein\", \"wheres\", \"whereupon\", \"wherever\", \"whether\", \"whim\", \"whither\", \"whod\", \"whoever\", \"whole\", \"who'll\", \"whomever\", \"whos\", \"whose\", \"widely\", \"willing\", \"wish\", \"within\", \"without\", \"wont\", \"words\", \"world\", \"wouldnt\", \"www\", \"x\", \"yes\", \"yet\", \"youd\", \"youre\", \"z\", \"zero\", \"a's\", \"ain't\", \"allow\", \"allows\", \"apart\", \"appear\", \"appreciate\", \"appropriate\", \"associated\", \"best\", \"better\", \"c'mon\", \"c's\", \"cant\", \"changes\", \"clearly\", \"concerning\", \"consequently\", \"consider\", \"considering\", \"corresponding\", \"course\", \"currently\", \"definitely\", \"described\", \"despite\", \"entirely\", \"exactly\", \"example\", \"going\", \"greetings\", \"hello\", \"help\", \"hopefully\", \"ignored\", \"inasmuch\", \"indicate\", \"indicated\", \"indicates\", \"inner\", \"insofar\", \"it'd\", \"keep\", \"keeps\", \"novel\", \"presumably\", \"reasonably\", \"second\", \"secondly\", \"sensible\", \"serious\", \"seriously\", \"sure\", \"t's\", \"third\", \"thorough\", \"thoroughly\", \"three\", \"well\", \"wonder\", \"a\", \"about\", \"above\", \"above\", \"across\", \"after\", \"afterwards\", \"again\", \"against\", \"all\", \"almost\", \"alone\", \"along\", \"already\", \"also\", \"although\", \"always\", \"am\", \"among\", \"amongst\", \"amoungst\", \"amount\", \"an\", \"and\", \"another\", \"any\", \"anyhow\", \"anyone\", \"anything\", \"anyway\", \"anywhere\", \"are\", \"around\", \"as\", \"at\", \"back\", \"be\", \"became\", \"because\", \"become\", \"becomes\", \"becoming\", \"been\", \"before\", \"beforehand\", \"behind\", \"being\", \"below\", \"beside\", \"besides\", \"between\", \"beyond\", \"bill\", \"both\", \"bottom\", \"but\", \"by\", \"call\", \"can\", \"cannot\", \"cant\", \"co\", \"con\", \"could\", \"couldnt\", \"cry\", \"de\", \"describe\", \"detail\", \"do\", \"done\", \"down\", \"due\", \"during\", \"each\", \"eg\", \"eight\", \"either\", \"eleven\", \"else\", \"elsewhere\", \"empty\", \"enough\", \"etc\", \"even\", \"ever\", \"every\", \"everyone\", \"everything\", \"everywhere\", \"except\", \"few\", \"fifteen\", \"fify\", \"fill\", \"find\", \"fire\", \"first\", \"five\", \"for\", \"former\", \"formerly\", \"forty\", \"found\", \"four\", \"from\", \"front\", \"full\", \"further\", \"get\", \"give\", \"go\", \"had\", \"has\", \"hasnt\", \"have\", \"he\", \"hence\", \"her\", \"here\", \"hereafter\", \"hereby\", \"herein\", \"hereupon\", \"hers\", \"herself\", \"him\", \"himself\", \"his\", \"how\", \"however\", \"hundred\", \"ie\", \"if\", \"in\", \"inc\", \"indeed\", \"interest\", \"into\", \"is\", \"it\", \"its\", \"itself\", \"keep\", \"last\", \"latter\", \"latterly\", \"least\", \"less\", \"ltd\", \"made\", \"many\", \"may\", \"me\", \"meanwhile\", \"might\", \"mill\", \"mine\", \"more\", \"moreover\", \"most\", \"mostly\", \"move\", \"much\", \"must\", \"my\", \"myself\", \"name\", \"namely\", \"neither\", \"never\", \"nevertheless\", \"next\", \"nine\", \"no\", \"nobody\", \"none\", \"noone\", \"nor\", \"not\", \"nothing\", \"now\", \"nowhere\", \"of\", \"off\", \"often\", \"on\", \"once\", \"one\", \"only\", \"onto\", \"or\", \"other\", \"others\", \"otherwise\", \"our\", \"ours\", \"ourselves\", \"out\", \"over\", \"own\", \"part\", \"per\", \"perhaps\", \"please\", \"put\", \"rather\", \"re\", \"same\", \"see\", \"seem\", \"seemed\", \"seeming\", \"seems\", \"serious\", \"several\", \"she\", \"should\", \"show\", \"side\", \"since\", \"sincere\", \"six\", \"sixty\", \"so\", \"some\", \"somehow\", \"someone\", \"something\", \"sometime\", \"sometimes\", \"somewhere\", \"still\", \"such\", \"system\", \"take\", \"ten\", \"than\", \"that\", \"the\", \"their\", \"them\", \"themselves\", \"then\", \"thence\", \"there\", \"thereafter\", \"thereby\", \"therefore\", \"therein\", \"thereupon\", \"these\", \"they\", \"thickv\", \"thin\", \"third\", \"this\", \"those\", \"though\", \"three\", \"through\", \"throughout\", \"thru\", \"thus\", \"to\", \"together\", \"too\", \"top\", \"toward\", \"towards\", \"twelve\", \"twenty\", \"two\", \"un\", \"under\", \"until\", \"up\", \"upon\", \"us\", \"very\", \"via\", \"was\", \"we\", \"well\", \"were\", \"what\", \"whatever\", \"when\", \"whence\", \"whenever\", \"where\", \"whereafter\", \"whereas\", \"whereby\", \"wherein\", \"whereupon\", \"wherever\", \"whether\", \"which\", \"while\", \"whither\", \"who\", \"whoever\", \"whole\", \"whom\", \"whose\", \"why\", \"will\", \"with\", \"within\", \"without\", \"would\", \"yet\", \"you\", \"your\", \"yours\", \"yourself\", \"yourselves\", \"the\", \"a\", \"b\", \"c\", \"d\", \"e\", \"f\", \"g\", \"h\", \"i\", \"j\", \"k\", \"l\", \"m\", \"n\", \"o\", \"p\", \"q\", \"r\", \"s\", \"t\", \"u\", \"v\", \"w\", \"x\", \"y\", \"z\", \"A\", \"B\", \"C\", \"D\", \"E\", \"F\", \"G\", \"H\", \"I\", \"J\", \"K\", \"L\", \"M\", \"N\", \"O\", \"P\", \"Q\", \"R\", \"S\", \"T\", \"U\", \"V\", \"W\", \"X\", \"Y\", \"Z\", \"co\", \"op\", \"research-articl\", \"pagecount\", \"cit\", \"ibid\", \"les\", \"le\", \"au\", \"que\", \"est\", \"pas\", \"vol\", \"el\", \"los\", \"pp\", \"u201d\", \"well-b\", \"http\", \"volumtype\", \"par\", \"0o\", \"0s\", \"3a\", \"3b\", \"3d\", \"6b\", \"6o\", \"a1\", \"a2\", \"a3\", \"a4\", \"ab\", \"ac\", \"ad\", \"ae\", \"af\", \"ag\", \"aj\", \"al\", \"an\", \"ao\", \"ap\", \"ar\", \"av\", \"aw\", \"ax\", \"ay\", \"az\", \"b1\", \"b2\", \"b3\", \"ba\", \"bc\", \"bd\", \"be\", \"bi\", \"bj\", \"bk\", \"bl\", \"bn\", \"bp\", \"br\", \"bs\", \"bt\", \"bu\", \"bx\", \"c1\", \"c2\", \"c3\", \"cc\", \"cd\", \"ce\", \"cf\", \"cg\", \"ch\", \"ci\", \"cj\", \"cl\", \"cm\", \"cn\", \"cp\", \"cq\", \"cr\", \"cs\", \"ct\", \"cu\", \"cv\", \"cx\", \"cy\", \"cz\", \"d2\", \"da\", \"dc\", \"dd\", \"de\", \"df\", \"di\", \"dj\", \"dk\", \"dl\", \"do\", \"dp\", \"dr\", \"ds\", \"dt\", \"du\", \"dx\", \"dy\", \"e2\", \"e3\", \"ea\", \"ec\", \"ed\", \"ee\", \"ef\", \"ei\", \"ej\", \"el\", \"em\", \"en\", \"eo\", \"ep\", \"eq\", \"er\", \"es\", \"et\", \"eu\", \"ev\", \"ex\", \"ey\", \"f2\", \"fa\", \"fc\", \"ff\", \"fi\", \"fj\", \"fl\", \"fn\", \"fo\", \"fr\", \"fs\", \"ft\", \"fu\", \"fy\", \"ga\", \"ge\", \"gi\", \"gj\", \"gl\", \"go\", \"gr\", \"gs\", \"gy\", \"h2\", \"h3\", \"hh\", \"hi\", \"hj\", \"ho\", \"hr\", \"hs\", \"hu\", \"hy\", \"i\", \"i2\", \"i3\", \"i4\", \"i6\", \"i7\", \"i8\", \"ia\", \"ib\", \"ic\", \"ie\", \"ig\", \"ih\", \"ii\", \"ij\", \"il\", \"in\", \"io\", \"ip\", \"iq\", \"ir\", \"iv\", \"ix\", \"iy\", \"iz\", \"jj\", \"jr\", \"js\", \"jt\", \"ju\", \"ke\", \"kg\", \"kj\", \"km\", \"ko\", \"l2\", \"la\", \"lb\", \"lc\", \"lf\", \"lj\", \"ln\", \"lo\", \"lr\", \"ls\", \"lt\", \"m2\", \"ml\", \"mn\", \"mo\", \"ms\", \"mt\", \"mu\", \"n2\", \"nc\", \"nd\", \"ne\", \"ng\", \"ni\", \"nj\", \"nl\", \"nn\", \"nr\", \"ns\", \"nt\", \"ny\", \"oa\", \"ob\", \"oc\", \"od\", \"of\", \"og\", \"oi\", \"oj\", \"ol\", \"om\", \"on\", \"oo\", \"oq\", \"or\", \"os\", \"ot\", \"ou\", \"ow\", \"ox\", \"oz\", \"p1\", \"p2\", \"p3\", \"pc\", \"pd\", \"pe\", \"pf\", \"ph\", \"pi\", \"pj\", \"pk\", \"pl\", \"pm\", \"pn\", \"po\", \"pq\", \"pr\", \"ps\", \"pt\", \"pu\", \"py\", \"qj\", \"qu\", \"r2\", \"ra\", \"rc\", \"rd\", \"rf\", \"rh\", \"ri\", \"rj\", \"rl\", \"rm\", \"rn\", \"ro\", \"rq\", \"rr\", \"rs\", \"rt\", \"ru\", \"rv\", \"ry\", \"s2\", \"sa\", \"sc\", \"sd\", \"se\", \"sf\", \"si\", \"sj\", \"sl\", \"sm\", \"sn\", \"sp\", \"sq\", \"sr\", \"ss\", \"st\", \"sy\", \"sz\", \"t1\", \"t2\", \"t3\", \"tb\", \"tc\", \"td\", \"te\", \"tf\", \"th\", \"ti\", \"tj\", \"tl\", \"tm\", \"tn\", \"tp\", \"tq\", \"tr\", \"ts\", \"tt\", \"tv\", \"tx\", \"ue\", \"ui\", \"uj\", \"uk\", \"um\", \"un\", \"uo\", \"ur\", \"ut\", \"va\", \"wa\", \"vd\", \"wi\", \"vj\", \"vo\", \"wo\", \"vq\", \"vt\", \"vu\", \"x1\", \"x2\", \"x3\", \"xf\", \"xi\", \"xj\", \"xk\", \"xl\", \"xn\", \"xo\", \"xs\", \"xt\", \"xv\", \"xx\", \"y2\", \"yj\", \"yl\", \"yr\", \"ys\", \"yt\", \"zi\", \"zz\"]"
   ]
  },
  {
   "cell_type": "markdown",
   "metadata": {},
   "source": [
    "## Data Retrivel and Processing\n",
    "\n",
    "Below code collect reviews from all files and append it."
   ]
  },
  {
   "cell_type": "code",
   "execution_count": 4,
   "metadata": {},
   "outputs": [
    {
     "name": "stdout",
     "output_type": "stream",
     "text": [
      "Started : new-delhi\n",
      "Completed : new-delhi\n",
      "Started : beijing\n",
      "Completed : beijing\n",
      "Started : chicago\n",
      "chicago\\usa_illinois_chicago_the_whitehall_hotel file is corrupted\n",
      "Completed : chicago\n",
      "Started : dubai\n",
      "dubai\\are_dubai_towers_rotana_dubai file is corrupted\n",
      "Completed : dubai\n",
      "Started : las-vegas\n",
      "Completed : las-vegas\n",
      "Started : london\n",
      "london\\uk_england_london_best_western_phoenix_hotel file is corrupted\n",
      "london\\uk_england_london_hilton_london_green_park file is corrupted\n",
      "london\\uk_england_london_merlyn_court_hotel file is corrupted\n",
      "london\\uk_england_london_st_david_s_hotels file is corrupted\n",
      "Completed : london\n",
      "Started : montreal\n",
      "Completed : montreal\n",
      "Started : new-york-city\n",
      "new-york-city\\usa_new york city_park_central file is corrupted\n",
      "Completed : new-york-city\n",
      "Started : san-francisco\n",
      "Completed : san-francisco\n",
      "Started : shanghai\n",
      "Completed : shanghai\n"
     ]
    }
   ],
   "source": [
    "Dataset=pd.read_csv(DataPath+\"test\", names=['Date','Title','Content'], delimiter=\"\\t\", index_col=3, encoding = \"ISO-8859-1\")\n",
    "Dataset[\"City\"]=\"Test\"\n",
    "Dataset.reset_index()\n",
    "for city in Cities :\n",
    "    print(\"Started : \"+city)\n",
    "    for i in os.listdir(DataPath+city+\"\\\\\"):\n",
    "        try :\n",
    "            Dataset2=pd.read_csv(DataPath+city+\"\\\\\"+i, names=['Date','Title','Content'], delimiter=\"\\t\", index_col=3, encoding = \"ISO-8859-1\")\n",
    "            Dataset2.reset_index()\n",
    "            Dataset2[\"City\"]=city\n",
    "            Dataset2[\"Hotel\"]=i\n",
    "            Dataset=pd.concat([Dataset,Dataset2],ignore_index=True,axis=0, sort=True)\n",
    "        except :\n",
    "            print(city+\"\\\\\"+i+\" file is corrupted\")\n",
    "    print(\"Completed : \"+city)\n"
   ]
  },
  {
   "cell_type": "markdown",
   "metadata": {},
   "source": [
    "## Extracting date features"
   ]
  },
  {
   "cell_type": "code",
   "execution_count": 5,
   "metadata": {},
   "outputs": [],
   "source": [
    "Dataset[\"Date\"]=pd.to_datetime(Dataset[\"Date\"])\n",
    "Dataset.index=Dataset.Date\n",
    "Dataset[\"Year\"]=Dataset.index.year\n",
    "Dataset[\"Month\"]=Dataset.index.month"
   ]
  },
  {
   "cell_type": "markdown",
   "metadata": {},
   "source": [
    "## Extracting hotel ratings"
   ]
  },
  {
   "cell_type": "code",
   "execution_count": 6,
   "metadata": {},
   "outputs": [],
   "source": [
    "city_review=pd.read_csv(DataPath+\"city_text.txt\", header=0 , delimiter=\"\\t\",encoding = \"ISO-8859-1\")\n",
    "for city in Cities :\n",
    "   \n",
    "    try :\n",
    "        city_review2=pd.read_csv(DataPath+city+\".csv\",header=0 , delimiter=\",\",  encoding = \"ISO-8859-1\",index_col=False)\n",
    "        city_review=pd.concat([city_review,city_review2],ignore_index=True,axis=0, sort=True)\n",
    "    except :\n",
    "        print(city+\"\\\\\"+i+\" file is corrupted\")\n",
    "city_review['overall_ratingsource']=city_review['overall_ratingsource'].replace(-1,np.NaN)\n",
    "# city_review[['doc_id','country','overall_ratingsource']]"
   ]
  },
  {
   "cell_type": "code",
   "execution_count": 6,
   "metadata": {},
   "outputs": [
    {
     "data": {
      "image/png": "[encoded data removed]",
      "text/plain": [
       "<Figure size 1080x576 with 7 Axes>"
      ]
     },
     "metadata": {
      "needs_background": "light"
     },
     "output_type": "display_data"
    }
   ],
   "source": [
    "fig = plt.figure(figsize=(15,8))\n",
    "for x,(i,city) in enumerate(city_review.groupby('country')):\n",
    "    plt.subplot(2,4,x+1)\n",
    "    plt.hist(city['overall_ratingsource'].dropna(),alpha=0.9)\n",
    "    plt.title(i)"
   ]
  },
  {
   "cell_type": "code",
   "execution_count": 7,
   "metadata": {},
   "outputs": [
    {
     "data": {
      "image/png": "[encoded data removed]",
      "text/plain": [
       "<Figure size 1080x576 with 7 Axes>"
      ]
     },
     "metadata": {
      "needs_background": "light"
     },
     "output_type": "display_data"
    }
   ],
   "source": [
    "fig = plt.figure(figsize=(15,8))\n",
    "for x,(i,city) in enumerate(city_review.groupby('country')):\n",
    "    plt.subplot(2,4,x+1)\n",
    "    plt.hist(city['overall_ratingsource'][city_review['overall_ratingsource']>4.8].dropna(),alpha=0.9)\n",
    "    plt.title(i)\n"
   ]
  },
  {
   "cell_type": "code",
   "execution_count": 8,
   "metadata": {},
   "outputs": [
    {
     "data": {
      "image/png": "[encoded data removed]",
      "text/plain": [
       "<Figure size 1080x720 with 7 Axes>"
      ]
     },
     "metadata": {
      "needs_background": "light"
     },
     "output_type": "display_data"
    }
   ],
   "source": [
    "fig = plt.figure(figsize=(15,10))\n",
    "for x,(i,city) in enumerate(city_review.groupby('country')):\n",
    "    plt.subplot(2,4,x+1)\n",
    "    plt.hist(city['overall_ratingsource'][city_review['overall_ratingsource']<1.5].dropna(),alpha=0.9)\n",
    "    plt.title(i)"
   ]
  },
  {
   "cell_type": "markdown",
   "metadata": {},
   "source": [
    "## Data Preprocess Function"
   ]
  },
  {
   "cell_type": "code",
   "execution_count": 7,
   "metadata": {},
   "outputs": [],
   "source": [
    "def create_sentence(rule):\n",
    "    print('Reading the sentence Started : '+str(datetime.datetime.now()))\n",
    "    Sentences=[]\n",
    "    for review in Dataset[\"Content\"][rule]:\n",
    "        if pd.isnull(review)== False and review!='':\n",
    "            for reviews in review.split('.'):\n",
    "                tokens = re.sub(r\"[^a-z0-9]+\", \" \", reviews.lower()).split()\n",
    "                Sentences.append(tokens)\n",
    "    \n",
    "    print('Reading the sentence Completed : '+str(datetime.datetime.now()))\n",
    "    print('Total Sentences '+str(len(Sentences)))\n",
    "    return Sentences\n",
    "\n",
    "def samplesenteneces(Sentences1, limit=1000):\n",
    "    if (len(Sentences1) >= limit) :\n",
    "        print('Before restricting (size) : '+str(len(Sentences1)))\n",
    "        Sentences1=list(pd.Series(Sentences1).dropna()[np.linspace(0,len(Sentences1),limit,dtype='int')])\n",
    "        print('After restricting (size) : '+str(len(Sentences1)))\n",
    "        return list(pd.Series(Sentences1).dropna())\n",
    "    else :\n",
    "        print('Sentence size already with in a limit (size) : '+str(len(Sentences1)))\n",
    "        return list(pd.Series(Sentences1).dropna())\n",
    "    \n",
    "#1 for skip-gram; otherwise CBOW.\n",
    "def create_model(Sentences2, Model_Name, sg1=0):\n",
    "    \n",
    "    print('Creating the model is starting : '+str(datetime.datetime.now()))\n",
    "    model_review = Word2Vec(sentences=list(pd.Series(Sentences2).dropna()) , size=100, window=5, min_count=1, workers=4, sg=sg1)\n",
    "    print('Creating the model is completed : '+str(datetime.datetime.now()))\n",
    "    if sg1==0 :\n",
    "        model_review.save(\"model\\\\\"+Model_Name+\"_\"+\"word2vec.model\")\n",
    "    else :\n",
    "        model_review.save(\"model\\\\\"+Model_Name+\"_\"+\"word2vec_Skipgram.model\")\n",
    "    print('Model is Saved : '+str(datetime.datetime.now()))\n",
    "    return model_review\n",
    "\n",
    "def build_year_model():\n",
    "    year_model={}\n",
    "    for years, data in Dataset.groupby(\"Year\"):\n",
    "        year_model[years]= Word2Vec.load(\"model\\\\\"+str(years)+\"_\"+\"word2vec.model\")\n",
    "    return year_model\n",
    "\n",
    "def display_similiarity(year_model1,word1) :\n",
    "    word=[]\n",
    "    year=[]\n",
    "    s_word=[]\n",
    "    s_word_rate=[]\n",
    "    for years, data in Dataset.groupby(\"Year\"):\n",
    "        try :\n",
    "            #print(str(years)+\" : \")\n",
    "            for sw in year_model1[years].wv.similar_by_word(word1) :\n",
    "                word.append(word1)\n",
    "                year.append(years)\n",
    "                s_word.append(sw[0])\n",
    "                s_word_rate.append(sw[1])\n",
    "            #print(year_model1[years].wv.similar_by_word(word1))\n",
    "        except :\n",
    "        #    print(word+\" words is not available in  \"+str(years))\n",
    "            pass\n",
    "    return pd.DataFrame({\"word\": word1, \"year\":year, \"s_word\":s_word, \"s_word_rate\":s_word_rate})            \n",
    "\n",
    "def load_model_file(modelfilename, list_of_words, sg1=0):\n",
    "    if sg1==0:\n",
    "        model= Word2Vec.load(\"model\\\\\"+modelfilename+\"_\"+\"word2vec.model\")\n",
    "    else :    \n",
    "        model= Word2Vec.load(\"model\\\\\"+modelfilename+\"_\"+\"word2vec_Skipgram.model\")\n",
    "    word1=[]\n",
    "    year=[]\n",
    "    s_word=[]\n",
    "    s_word_rate=[]\n",
    "    for x in list_of_words:\n",
    "        try :\n",
    "            for sw in model.wv.similar_by_word(x) :\n",
    "                word1.append(x)\n",
    "                year.append(np.nan)\n",
    "                s_word.append(sw[0])\n",
    "                s_word_rate.append(sw[1])\n",
    "        except :\n",
    "            pass\n",
    "    similiar_item=pd.DataFrame({\"word\": word1, \"year\":year, \"s_word\":s_word, \"s_word_rate\":s_word_rate}) \n",
    "    if sg1==0:\n",
    "        similiar_item[\"Type\"]=modelfilename\n",
    "    else :\n",
    "        similiar_item[\"Type\"]=modelfilename+\"_sg\"\n",
    "    return similiar_item"
   ]
  },
  {
   "cell_type": "code",
   "execution_count": 15,
   "metadata": {},
   "outputs": [
    {
     "name": "stdout",
     "output_type": "stream",
     "text": [
      "Reading the sentence Started : 2019-05-04 11:46:06.574176\n",
      "Reading the sentence Completed : 2019-05-04 11:46:06.586176\n",
      "Total Sentences 403\n",
      "Sentence size already with in a limit (size) : 403\n",
      "Creating the model is starting : 2019-05-04 11:46:06.591177\n",
      "Creating the model is completed : 2019-05-04 11:46:20.920996\n",
      "Model is Saved : 2019-05-04 11:46:20.946998\n"
     ]
    }
   ],
   "source": [
    "highrated_sentence=create_sentence( Dataset['Hotel'].isin(list(city_review[city_review['overall_ratingsource']==5]['doc_id'])) )\n",
    "highrated_sentence2=samplesenteneces(highrated_sentence,20000)\n",
    "highrated_model=create_model(highrated_sentence2,'highrated')"
   ]
  },
  {
   "cell_type": "code",
   "execution_count": 16,
   "metadata": {},
   "outputs": [
    {
     "name": "stdout",
     "output_type": "stream",
     "text": [
      "Reading the sentence Started : 2019-05-04 11:46:31.679612\n",
      "Reading the sentence Completed : 2019-05-04 11:46:31.689612\n",
      "Total Sentences 394\n",
      "Sentence size already with in a limit (size) : 394\n",
      "Creating the model is starting : 2019-05-04 11:46:31.693612\n"
     ]
    },
    {
     "name": "stderr",
     "output_type": "stream",
     "text": [
      "C:\\Users\\Dell\\Anaconda3\\lib\\site-packages\\gensim\\models\\base_any2vec.py:743: UserWarning: C extension not loaded, training will be slow. Install a C compiler and reinstall gensim for fast training.\n",
      "  \"C extension not loaded, training will be slow. \"\n"
     ]
    },
    {
     "name": "stdout",
     "output_type": "stream",
     "text": [
      "Creating the model is completed : 2019-05-04 11:46:41.388167\n",
      "Model is Saved : 2019-05-04 11:46:41.458171\n"
     ]
    }
   ],
   "source": [
    "lowrated_sentence=create_sentence( Dataset['Hotel'].isin(list(city_review[city_review['overall_ratingsource']==1]['doc_id'])) )\n",
    "lowrated_sentence2=samplesenteneces(lowrated_sentence,20000)\n",
    "lowrated_model=create_model(lowrated_sentence2,'lowrated')"
   ]
  },
  {
   "cell_type": "code",
   "execution_count": 17,
   "metadata": {},
   "outputs": [
    {
     "name": "stdout",
     "output_type": "stream",
     "text": [
      "Reading the sentence Started : 2019-05-04 11:46:41.535175\n",
      "Reading the sentence Completed : 2019-05-04 11:46:42.488230\n",
      "Total Sentences 48222\n",
      "Before restricting (size) : 48222\n",
      "After restricting (size) : 20000\n",
      "Creating the model is starting : 2019-05-04 11:46:42.535233\n"
     ]
    },
    {
     "name": "stderr",
     "output_type": "stream",
     "text": [
      "C:\\Users\\Dell\\Anaconda3\\lib\\site-packages\\pandas\\core\\series.py:842: FutureWarning: \n",
      "Passing list-likes to .loc or [] with any missing label will raise\n",
      "KeyError in the future, you can use .reindex() as an alternative.\n",
      "\n",
      "See the documentation here:\n",
      "https://pandas.pydata.org/pandas-docs/stable/indexing.html#deprecate-loc-reindex-listlike\n",
      "  return self.loc[key]\n",
      "C:\\Users\\Dell\\Anaconda3\\lib\\site-packages\\gensim\\models\\base_any2vec.py:743: UserWarning: C extension not loaded, training will be slow. Install a C compiler and reinstall gensim for fast training.\n",
      "  \"C extension not loaded, training will be slow. \"\n"
     ]
    },
    {
     "name": "stdout",
     "output_type": "stream",
     "text": [
      "Creating the model is completed : 2019-05-04 11:58:45.824602\n",
      "Model is Saved : 2019-05-04 11:58:46.048615\n"
     ]
    }
   ],
   "source": [
    "delhi_sentence=create_sentence(Dataset[\"City\"]=='new-delhi')\n",
    "delhi_sentence2=samplesenteneces(delhi_sentence,20000)\n",
    "delhi_model=create_model(delhi_sentence2,'delhi')"
   ]
  },
  {
   "cell_type": "code",
   "execution_count": null,
   "metadata": {},
   "outputs": [
    {
     "name": "stdout",
     "output_type": "stream",
     "text": [
      "Reading the sentence Started : 2019-05-04 12:25:33.291544\n",
      "Reading the sentence Completed : 2019-05-04 12:25:51.286573\n",
      "Total Sentences 800927\n",
      "Before restricting (size) : 800927\n"
     ]
    },
    {
     "name": "stderr",
     "output_type": "stream",
     "text": [
      "C:\\Users\\Dell\\Anaconda3\\lib\\site-packages\\pandas\\core\\series.py:842: FutureWarning: \n",
      "Passing list-likes to .loc or [] with any missing label will raise\n",
      "KeyError in the future, you can use .reindex() as an alternative.\n",
      "\n",
      "See the documentation here:\n",
      "https://pandas.pydata.org/pandas-docs/stable/indexing.html#deprecate-loc-reindex-listlike\n",
      "  return self.loc[key]\n",
      "C:\\Users\\Dell\\Anaconda3\\lib\\site-packages\\gensim\\models\\base_any2vec.py:743: UserWarning: C extension not loaded, training will be slow. Install a C compiler and reinstall gensim for fast training.\n",
      "  \"C extension not loaded, training will be slow. \"\n"
     ]
    },
    {
     "name": "stdout",
     "output_type": "stream",
     "text": [
      "After restricting (size) : 20000\n",
      "Creating the model is starting : 2019-05-04 12:25:52.064618\n",
      "Creating the model is completed : 2019-05-04 12:39:14.503515\n",
      "Model is Saved : 2019-05-04 12:39:14.780531\n"
     ]
    }
   ],
   "source": [
    "london_sentence=create_sentence(Dataset[\"City\"]=='london')\n",
    "london_sentence2=samplesenteneces(london_sentence,20000)\n",
    "london_model=create_model(london_sentence2, 'london')"
   ]
  },
  {
   "cell_type": "code",
   "execution_count": null,
   "metadata": {},
   "outputs": [
    {
     "name": "stdout",
     "output_type": "stream",
     "text": [
      "Reading the sentence Started : 2019-05-04 12:39:14.980542\n",
      "Reading the sentence Completed : 2019-05-04 12:39:28.020288\n",
      "Total Sentences 621463\n",
      "Before restricting (size) : 621463\n",
      "After restricting (size) : 20000\n"
     ]
    },
    {
     "name": "stderr",
     "output_type": "stream",
     "text": [
      "C:\\Users\\Dell\\Anaconda3\\lib\\site-packages\\pandas\\core\\series.py:842: FutureWarning: \n",
      "Passing list-likes to .loc or [] with any missing label will raise\n",
      "KeyError in the future, you can use .reindex() as an alternative.\n",
      "\n",
      "See the documentation here:\n",
      "https://pandas.pydata.org/pandas-docs/stable/indexing.html#deprecate-loc-reindex-listlike\n",
      "  return self.loc[key]\n",
      "C:\\Users\\Dell\\Anaconda3\\lib\\site-packages\\gensim\\models\\base_any2vec.py:743: UserWarning: C extension not loaded, training will be slow. Install a C compiler and reinstall gensim for fast training.\n",
      "  \"C extension not loaded, training will be slow. \"\n"
     ]
    },
    {
     "name": "stdout",
     "output_type": "stream",
     "text": [
      "Creating the model is starting : 2019-05-04 12:39:28.600321\n",
      "Creating the model is completed : 2019-05-04 12:52:15.413180\n",
      "Model is Saved : 2019-05-04 12:52:15.904208\n"
     ]
    }
   ],
   "source": [
    "newyork_sentence=create_sentence(Dataset[\"City\"]=='new-york-city')\n",
    "newyork_sentence2=samplesenteneces(newyork_sentence,20000)\n",
    "newyork_model=create_model(newyork_sentence2, 'newyork')"
   ]
  },
  {
   "cell_type": "code",
   "execution_count": 9,
   "metadata": {},
   "outputs": [
    {
     "name": "stdout",
     "output_type": "stream",
     "text": [
      "Reading the sentence Started : 2019-05-04 13:27:28.785354\n",
      "Reading the sentence Completed : 2019-05-04 13:27:29.471394\n",
      "Total Sentences 48222\n",
      "Before restricting (size) : 48222\n",
      "After restricting (size) : 20000\n",
      "Creating the model is starting : 2019-05-04 13:27:29.566399\n"
     ]
    },
    {
     "name": "stderr",
     "output_type": "stream",
     "text": [
      "C:\\Users\\Dell\\Anaconda3\\lib\\site-packages\\pandas\\core\\series.py:842: FutureWarning: \n",
      "Passing list-likes to .loc or [] with any missing label will raise\n",
      "KeyError in the future, you can use .reindex() as an alternative.\n",
      "\n",
      "See the documentation here:\n",
      "https://pandas.pydata.org/pandas-docs/stable/indexing.html#deprecate-loc-reindex-listlike\n",
      "  return self.loc[key]\n",
      "C:\\Users\\Dell\\Anaconda3\\lib\\site-packages\\gensim\\models\\base_any2vec.py:743: UserWarning: C extension not loaded, training will be slow. Install a C compiler and reinstall gensim for fast training.\n",
      "  \"C extension not loaded, training will be slow. \"\n"
     ]
    },
    {
     "name": "stdout",
     "output_type": "stream",
     "text": [
      "Creating the model is completed : 2019-05-04 14:20:19.548712\n",
      "Model is Saved : 2019-05-04 14:20:19.763724\n",
      "Delhi model is done\n",
      "Reading the sentence Started : 2019-05-04 14:20:19.798726\n",
      "Reading the sentence Completed : 2019-05-04 14:20:36.561685\n",
      "Total Sentences 800927\n",
      "Before restricting (size) : 800927\n"
     ]
    },
    {
     "name": "stderr",
     "output_type": "stream",
     "text": [
      "C:\\Users\\Dell\\Anaconda3\\lib\\site-packages\\pandas\\core\\series.py:842: FutureWarning: \n",
      "Passing list-likes to .loc or [] with any missing label will raise\n",
      "KeyError in the future, you can use .reindex() as an alternative.\n",
      "\n",
      "See the documentation here:\n",
      "https://pandas.pydata.org/pandas-docs/stable/indexing.html#deprecate-loc-reindex-listlike\n",
      "  return self.loc[key]\n",
      "C:\\Users\\Dell\\Anaconda3\\lib\\site-packages\\gensim\\models\\base_any2vec.py:743: UserWarning: C extension not loaded, training will be slow. Install a C compiler and reinstall gensim for fast training.\n",
      "  \"C extension not loaded, training will be slow. \"\n"
     ]
    },
    {
     "name": "stdout",
     "output_type": "stream",
     "text": [
      "After restricting (size) : 20000\n",
      "Creating the model is starting : 2019-05-04 14:20:36.896704\n",
      "Creating the model is completed : 2019-05-04 15:09:51.058672\n",
      "Model is Saved : 2019-05-04 15:09:51.207681\n",
      "london model is done\n",
      "Reading the sentence Started : 2019-05-04 15:09:51.245683\n",
      "Reading the sentence Completed : 2019-05-04 15:10:00.702224\n",
      "Total Sentences 621463\n",
      "Before restricting (size) : 621463\n",
      "After restricting (size) : 20000\n"
     ]
    },
    {
     "name": "stderr",
     "output_type": "stream",
     "text": [
      "C:\\Users\\Dell\\Anaconda3\\lib\\site-packages\\pandas\\core\\series.py:842: FutureWarning: \n",
      "Passing list-likes to .loc or [] with any missing label will raise\n",
      "KeyError in the future, you can use .reindex() as an alternative.\n",
      "\n",
      "See the documentation here:\n",
      "https://pandas.pydata.org/pandas-docs/stable/indexing.html#deprecate-loc-reindex-listlike\n",
      "  return self.loc[key]\n",
      "C:\\Users\\Dell\\Anaconda3\\lib\\site-packages\\gensim\\models\\base_any2vec.py:743: UserWarning: C extension not loaded, training will be slow. Install a C compiler and reinstall gensim for fast training.\n",
      "  \"C extension not loaded, training will be slow. \"\n"
     ]
    },
    {
     "name": "stdout",
     "output_type": "stream",
     "text": [
      "Creating the model is starting : 2019-05-04 15:10:00.903236\n",
      "Creating the model is completed : 2019-05-04 15:59:58.777704\n",
      "Model is Saved : 2019-05-04 15:59:59.013718\n",
      "newyork model is done\n"
     ]
    }
   ],
   "source": [
    "delhi_sentence=create_sentence(Dataset[\"City\"]=='new-delhi')\n",
    "delhi_sentence2=samplesenteneces(delhi_sentence,20000)\n",
    "delhi_model_sg=create_model(delhi_sentence2,'delhi',1)\n",
    "print(\"Delhi model is done\")\n",
    "\n",
    "london_sentence=create_sentence(Dataset[\"City\"]=='london')\n",
    "london_sentence2=samplesenteneces(london_sentence,20000)\n",
    "london_model_sg=create_model(london_sentence2, 'london',1)\n",
    "print(\"london model is done\")\n",
    "\n",
    "newyork_sentence=create_sentence(Dataset[\"City\"]=='new-york-city')\n",
    "newyork_sentence2=samplesenteneces(newyork_sentence,20000)\n",
    "newyork_model_sg=create_model(newyork_sentence2, 'newyork',1)\n",
    "print(\"newyork model is done\")"
   ]
  },
  {
   "cell_type": "code",
   "execution_count": null,
   "metadata": {},
   "outputs": [],
   "source": [
    "# Script run long run time . Beaware, before using.\n",
    "\n",
    "year={}\n",
    "year2={}\n",
    "year_model={}\n",
    "for years, data in Dataset.groupby(\"Year\"):\n",
    "    year[years]=create_sentence(Dataset[\"Year\"]==years)\n",
    "    year2[years]=samplesenteneces(year[years],20000)\n",
    "    year_model[years]=create_model(year2[years], str(years))\n",
    "    print(str(years)+\" is completed\")"
   ]
  },
  {
   "cell_type": "code",
   "execution_count": null,
   "metadata": {},
   "outputs": [],
   "source": [
    "year_model=build_year_model()\n",
    "list_of_words=['flight','sightseeing','party','price','fare','cheap','coffe','toilet','taxi']"
   ]
  },
  {
   "cell_type": "code",
   "execution_count": null,
   "metadata": {},
   "outputs": [],
   "source": [
    "similiars=display_similiarity(year_model,\"food\")\n",
    "for x in list_of_words:\n",
    "    similiar=display_similiarity(year_model,x)\n",
    "    similiars=pd.concat([similiars,similiar],ignore_index=True,axis=0, sort=True)\n",
    "    \n",
    "similiars[\"Type\"]=\"Yearly_Comparision\""
   ]
  },
  {
   "cell_type": "code",
   "execution_count": null,
   "metadata": {},
   "outputs": [],
   "source": [
    "list_of_words=[\"food\",'flight','sightseeing','party','price','fare','cheap','coffe','toilet','taxi']\n",
    "\n",
    "delhi_similiar=load_model_file(\"delhi\", list_of_words)\n",
    "similiars=pd.concat([similiars,delhi_similiar],ignore_index=True,axis=0, sort=True)\n",
    "\n",
    "london_similiar=load_model_file(\"london\", list_of_words)\n",
    "similiars=pd.concat([similiars,london_similiar],ignore_index=True,axis=0, sort=True)\n",
    "\n",
    "newyork_similiar=load_model_file(\"newyork\", list_of_words)\n",
    "similiars=pd.concat([similiars,newyork_similiar],ignore_index=True,axis=0, sort=True)"
   ]
  },
  {
   "cell_type": "code",
   "execution_count": null,
   "metadata": {},
   "outputs": [],
   "source": [
    "list_of_words=[\"food\",'flight','sightseeing','party','price','fare','cheap','coffe','toilet','taxi']\n",
    "\n",
    "delhi_similiar=load_model_file(\"delhi\", list_of_words, 1)\n",
    "similiars=pd.concat([similiars,delhi_similiar],ignore_index=True,axis=0, sort=True)\n",
    "\n",
    "london_similiar=load_model_file(\"london\", list_of_words, 1)\n",
    "similiars=pd.concat([similiars,london_similiar],ignore_index=True,axis=0, sort=True)\n",
    "\n",
    "newyork_similiar=load_model_file(\"newyork\", list_of_words, 1)\n",
    "similiars=pd.concat([similiars,newyork_similiar],ignore_index=True,axis=0, sort=True)"
   ]
  },
  {
   "cell_type": "code",
   "execution_count": null,
   "metadata": {},
   "outputs": [],
   "source": [
    "list_of_words=['flight','food','staff','rating','room','cheap','travel','taxi']\n",
    "\n",
    "lowrated_similiar=load_model_file(\"lowrated\", list_of_words)\n",
    "similiars=pd.concat([similiars,lowrated_similiar],ignore_index=True,axis=0, sort=True)\n",
    "\n",
    "highrated_similiar=load_model_file(\"highrated\", list_of_words)\n",
    "similiars=pd.concat([similiars,highrated_similiar],ignore_index=True,axis=0, sort=True)"
   ]
  },
  {
   "cell_type": "code",
   "execution_count": null,
   "metadata": {},
   "outputs": [],
   "source": [
    "similiars.to_csv(\"similiar.csv\")"
   ]
  }
 ],
 "metadata": {
  "kernelspec": {
   "display_name": "Python 3",
   "language": "python",
   "name": "python3"
  },
  "language_info": {
   "codemirror_mode": {
    "name": "ipython",
    "version": 3
   },
   "file_extension": ".py",
   "mimetype": "text/x-python",
   "name": "python",
   "nbconvert_exporter": "python",
   "pygments_lexer": "ipython3",
   "version": "3.7.1"
  }
 },
 "nbformat": 4,
 "nbformat_minor": 2
}
