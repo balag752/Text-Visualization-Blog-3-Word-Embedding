{
 "cells": [
  {
   "cell_type": "markdown",
   "metadata": {},
   "source": [
    "Date: **29.04. (Due: 30.04.)**  <br/>\n",
    "Name: **Balaji Subramani** <br/>\n",
    "Session: **[Dimensionality-Reduction](https://textvis.repke.eu/index.html)**  <br/>\n",
    "Code: on **[GitHub](https://github.com/balag752/Text-Visualization-Blog-2-Dimensionality-Reduction)**\n",
    "\n",
    "# <center>Trip Adviser - Word Embeddings </center>\n",
    "\n",
    "## Objective\n",
    "\n",
    "    This blog is focused to explore the feature of word embedding techniques using the Trip Adviser hotel reviews.\n",
    "    \n",
    "    Here we have used word2vec with CBOW (Continuous Bag of Words) and Skip-gram models. we could find more information about this model [here]([https://www.kdnuggets.com/2018/04/implementing-deep-learning-methods-feature-engineering-text-data-cbow.html](https://www.kdnuggets.com/2018/04/implementing-deep-learning-methods-feature-engineering-text-data-cbow.html)\n"
   ]
  },
  {
   "cell_type": "code",
   "execution_count": null,
   "metadata": {},
   "outputs": [],
   "source": []
  }
 ],
 "metadata": {
  "kernelspec": {
   "display_name": "Python 3",
   "language": "python",
   "name": "python3"
  },
  "language_info": {
   "codemirror_mode": {
    "name": "ipython",
    "version": 3
   },
   "file_extension": ".py",
   "mimetype": "text/x-python",
   "name": "python",
   "nbconvert_exporter": "python",
   "pygments_lexer": "ipython3",
   "version": "3.7.1"
  }
 },
 "nbformat": 4,
 "nbformat_minor": 2
}
